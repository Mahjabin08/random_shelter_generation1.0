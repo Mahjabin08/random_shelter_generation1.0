{
 "cells": [
  {
   "cell_type": "code",
   "execution_count": 38,
   "id": "9e0f1e3b",
   "metadata": {},
   "outputs": [],
   "source": [
    "import osmnx as ox\n",
    "import matplotlib.pyplot as plt\n",
    "import pandas as pd"
   ]
  },
  {
   "cell_type": "markdown",
   "id": "259b4ba2",
   "metadata": {},
   "source": [
    "In this notebook, random shelter files will be generated from osm data from a target location, to check the steps of how it works. Firstly, I have exported dataset for patuakhali barguna from osm, then converted it to geojson file in JOSM, so that I can do the necessary preprocessing."
   ]
  },
  {
   "cell_type": "code",
   "execution_count": 4,
   "id": "9afbd3f2",
   "metadata": {},
   "outputs": [],
   "source": [
    "import geopandas as gpd"
   ]
  },
  {
   "cell_type": "code",
   "execution_count": 5,
   "id": "2541fd0e",
   "metadata": {},
   "outputs": [],
   "source": [
    "patuakhali=gpd.read_file('patuakhali.geojson')"
   ]
  },
  {
   "cell_type": "code",
   "execution_count": 17,
   "id": "2cc1b687",
   "metadata": {},
   "outputs": [
    {
     "data": {
      "text/html": [
       "<div>\n",
       "<style scoped>\n",
       "    .dataframe tbody tr th:only-of-type {\n",
       "        vertical-align: middle;\n",
       "    }\n",
       "\n",
       "    .dataframe tbody tr th {\n",
       "        vertical-align: top;\n",
       "    }\n",
       "\n",
       "    .dataframe thead th {\n",
       "        text-align: right;\n",
       "    }\n",
       "</style>\n",
       "<table border=\"1\" class=\"dataframe\">\n",
       "  <thead>\n",
       "    <tr style=\"text-align: right;\">\n",
       "      <th></th>\n",
       "      <th>access</th>\n",
       "      <th>alt_name</th>\n",
       "      <th>amenity</th>\n",
       "      <th>bicycle</th>\n",
       "      <th>boundary</th>\n",
       "      <th>bridge</th>\n",
       "      <th>building</th>\n",
       "      <th>foot</th>\n",
       "      <th>ford</th>\n",
       "      <th>hgv</th>\n",
       "      <th>...</th>\n",
       "      <th>tourist_bus</th>\n",
       "      <th>type</th>\n",
       "      <th>usage</th>\n",
       "      <th>vehicle</th>\n",
       "      <th>waterway</th>\n",
       "      <th>wetland</th>\n",
       "      <th>wikidata</th>\n",
       "      <th>wikipedia</th>\n",
       "      <th>wikipedia:bn</th>\n",
       "      <th>geometry</th>\n",
       "    </tr>\n",
       "  </thead>\n",
       "  <tbody>\n",
       "    <tr>\n",
       "      <th>0</th>\n",
       "      <td>NaN</td>\n",
       "      <td>NaN</td>\n",
       "      <td>NaN</td>\n",
       "      <td>NaN</td>\n",
       "      <td>protected_area</td>\n",
       "      <td>NaN</td>\n",
       "      <td>NaN</td>\n",
       "      <td>NaN</td>\n",
       "      <td>NaN</td>\n",
       "      <td>NaN</td>\n",
       "      <td>...</td>\n",
       "      <td>NaN</td>\n",
       "      <td>multipolygon</td>\n",
       "      <td>NaN</td>\n",
       "      <td>NaN</td>\n",
       "      <td>NaN</td>\n",
       "      <td>NaN</td>\n",
       "      <td>NaN</td>\n",
       "      <td>NaN</td>\n",
       "      <td>NaN</td>\n",
       "      <td>MULTIPOLYGON (((90.21817 21.82038, 90.21743 21...</td>\n",
       "    </tr>\n",
       "    <tr>\n",
       "      <th>1</th>\n",
       "      <td>NaN</td>\n",
       "      <td>NaN</td>\n",
       "      <td>NaN</td>\n",
       "      <td>NaN</td>\n",
       "      <td>NaN</td>\n",
       "      <td>NaN</td>\n",
       "      <td>NaN</td>\n",
       "      <td>NaN</td>\n",
       "      <td>NaN</td>\n",
       "      <td>NaN</td>\n",
       "      <td>...</td>\n",
       "      <td>NaN</td>\n",
       "      <td>NaN</td>\n",
       "      <td>NaN</td>\n",
       "      <td>NaN</td>\n",
       "      <td>NaN</td>\n",
       "      <td>NaN</td>\n",
       "      <td>NaN</td>\n",
       "      <td>NaN</td>\n",
       "      <td>NaN</td>\n",
       "      <td>POINT (90.11798 21.81547)</td>\n",
       "    </tr>\n",
       "    <tr>\n",
       "      <th>2</th>\n",
       "      <td>NaN</td>\n",
       "      <td>NaN</td>\n",
       "      <td>NaN</td>\n",
       "      <td>yes</td>\n",
       "      <td>NaN</td>\n",
       "      <td>NaN</td>\n",
       "      <td>NaN</td>\n",
       "      <td>yes</td>\n",
       "      <td>NaN</td>\n",
       "      <td>NaN</td>\n",
       "      <td>...</td>\n",
       "      <td>NaN</td>\n",
       "      <td>NaN</td>\n",
       "      <td>NaN</td>\n",
       "      <td>NaN</td>\n",
       "      <td>NaN</td>\n",
       "      <td>NaN</td>\n",
       "      <td>NaN</td>\n",
       "      <td>NaN</td>\n",
       "      <td>NaN</td>\n",
       "      <td>LINESTRING (90.12168 21.81611, 90.12207 21.816...</td>\n",
       "    </tr>\n",
       "    <tr>\n",
       "      <th>3</th>\n",
       "      <td>NaN</td>\n",
       "      <td>NaN</td>\n",
       "      <td>NaN</td>\n",
       "      <td>NaN</td>\n",
       "      <td>NaN</td>\n",
       "      <td>NaN</td>\n",
       "      <td>NaN</td>\n",
       "      <td>NaN</td>\n",
       "      <td>NaN</td>\n",
       "      <td>NaN</td>\n",
       "      <td>...</td>\n",
       "      <td>NaN</td>\n",
       "      <td>NaN</td>\n",
       "      <td>NaN</td>\n",
       "      <td>NaN</td>\n",
       "      <td>NaN</td>\n",
       "      <td>NaN</td>\n",
       "      <td>NaN</td>\n",
       "      <td>NaN</td>\n",
       "      <td>NaN</td>\n",
       "      <td>POLYGON ((90.11065 21.82552, 90.11076 21.82556...</td>\n",
       "    </tr>\n",
       "    <tr>\n",
       "      <th>4</th>\n",
       "      <td>NaN</td>\n",
       "      <td>NaN</td>\n",
       "      <td>NaN</td>\n",
       "      <td>NaN</td>\n",
       "      <td>NaN</td>\n",
       "      <td>NaN</td>\n",
       "      <td>yes</td>\n",
       "      <td>NaN</td>\n",
       "      <td>NaN</td>\n",
       "      <td>NaN</td>\n",
       "      <td>...</td>\n",
       "      <td>NaN</td>\n",
       "      <td>NaN</td>\n",
       "      <td>NaN</td>\n",
       "      <td>NaN</td>\n",
       "      <td>NaN</td>\n",
       "      <td>NaN</td>\n",
       "      <td>NaN</td>\n",
       "      <td>NaN</td>\n",
       "      <td>NaN</td>\n",
       "      <td>POLYGON ((90.14074 21.81125, 90.14080 21.81123...</td>\n",
       "    </tr>\n",
       "  </tbody>\n",
       "</table>\n",
       "<p>5 rows × 44 columns</p>\n",
       "</div>"
      ],
      "text/plain": [
       "  access alt_name amenity bicycle        boundary bridge building foot ford  \\\n",
       "0    NaN      NaN     NaN     NaN  protected_area    NaN      NaN  NaN  NaN   \n",
       "1    NaN      NaN     NaN     NaN             NaN    NaN      NaN  NaN  NaN   \n",
       "2    NaN      NaN     NaN     yes             NaN    NaN      NaN  yes  NaN   \n",
       "3    NaN      NaN     NaN     NaN             NaN    NaN      NaN  NaN  NaN   \n",
       "4    NaN      NaN     NaN     NaN             NaN    NaN      yes  NaN  NaN   \n",
       "\n",
       "   hgv  ... tourist_bus          type usage vehicle waterway wetland wikidata  \\\n",
       "0  NaN  ...         NaN  multipolygon   NaN     NaN      NaN     NaN      NaN   \n",
       "1  NaN  ...         NaN           NaN   NaN     NaN      NaN     NaN      NaN   \n",
       "2  NaN  ...         NaN           NaN   NaN     NaN      NaN     NaN      NaN   \n",
       "3  NaN  ...         NaN           NaN   NaN     NaN      NaN     NaN      NaN   \n",
       "4  NaN  ...         NaN           NaN   NaN     NaN      NaN     NaN      NaN   \n",
       "\n",
       "  wikipedia wikipedia:bn                                           geometry  \n",
       "0       NaN          NaN  MULTIPOLYGON (((90.21817 21.82038, 90.21743 21...  \n",
       "1       NaN          NaN                          POINT (90.11798 21.81547)  \n",
       "2       NaN          NaN  LINESTRING (90.12168 21.81611, 90.12207 21.816...  \n",
       "3       NaN          NaN  POLYGON ((90.11065 21.82552, 90.11076 21.82556...  \n",
       "4       NaN          NaN  POLYGON ((90.14074 21.81125, 90.14080 21.81123...  \n",
       "\n",
       "[5 rows x 44 columns]"
      ]
     },
     "execution_count": 17,
     "metadata": {},
     "output_type": "execute_result"
    }
   ],
   "source": [
    "patuakhali.head()"
   ]
  },
  {
   "cell_type": "code",
   "execution_count": 8,
   "id": "f7d7d0ce",
   "metadata": {},
   "outputs": [],
   "source": [
    "#print(patuakhali.value_counts)"
   ]
  },
  {
   "cell_type": "code",
   "execution_count": 10,
   "id": "77dce746",
   "metadata": {},
   "outputs": [],
   "source": [
    "from shapely import Point"
   ]
  },
  {
   "cell_type": "markdown",
   "id": "ec56978a",
   "metadata": {},
   "source": [
    "after checking the current data, it can be seen that, the latitude and longitude is in the geometry, now we have to fetch this values and create two new columns in the dataset named latitude and logitude.but as it can be seen below, the rows have different numbers of coordinates, we will use centroid funtion to fetch the lattitude and longitude and specifically target the building and amenity data because the shelters will be definitley be in the buildings or amenity(school or others). so what i am going to do is, create a new dataframe with columnns -> buildings, amenity and geometry, and then go from there."
   ]
  },
  {
   "cell_type": "code",
   "execution_count": 12,
   "id": "3dc7269b",
   "metadata": {},
   "outputs": [
    {
     "data": {
      "text/plain": [
       "0    MULTIPOLYGON (((90.21817 21.82038, 90.21743 21...\n",
       "1                            POINT (90.11798 21.81547)\n",
       "2    LINESTRING (90.12168 21.81611, 90.12207 21.816...\n",
       "3    POLYGON ((90.11065 21.82552, 90.11076 21.82556...\n",
       "4    POLYGON ((90.14074 21.81125, 90.14080 21.81123...\n",
       "Name: geometry, dtype: geometry"
      ]
     },
     "execution_count": 12,
     "metadata": {},
     "output_type": "execute_result"
    }
   ],
   "source": [
    "patuakhali['geometry'].head()"
   ]
  },
  {
   "cell_type": "code",
   "execution_count": 22,
   "id": "c6fb81c0",
   "metadata": {},
   "outputs": [
    {
     "data": {
      "image/png": "[encoded data removed]",
      "text/plain": [
       "<Figure size 640x480 with 1 Axes>"
      ]
     },
     "metadata": {},
     "output_type": "display_data"
    }
   ],
   "source": [
    "# Count the frequency of each category in the 'building' column\n",
    "building_counts = patuakhali['building'].value_counts()\n",
    "\n",
    "# Create a bar plot\n",
    "building_counts.plot(kind='bar')\n",
    "plt.xlabel('Building')\n",
    "plt.ylabel('Frequency')\n",
    "plt.title('Distribution of Building Types')\n",
    "plt.show()"
   ]
  },
  {
   "cell_type": "code",
   "execution_count": 21,
   "id": "701f3ba2",
   "metadata": {},
   "outputs": [
    {
     "data": {
      "text/plain": [
       "access                object\n",
       "alt_name              object\n",
       "amenity               object\n",
       "bicycle               object\n",
       "boundary              object\n",
       "bridge                object\n",
       "building              object\n",
       "foot                  object\n",
       "ford                  object\n",
       "hgv                   object\n",
       "highway               object\n",
       "horse                 object\n",
       "landuse               object\n",
       "lanes                 object\n",
       "layer                 object\n",
       "leisure               object\n",
       "lock                  object\n",
       "maxspeed              object\n",
       "motorcycle            object\n",
       "motor_vehicle         object\n",
       "name                  object\n",
       "name:bn               object\n",
       "name:en               object\n",
       "natural               object\n",
       "operator              object\n",
       "operator:type         object\n",
       "place                 object\n",
       "protect_class         object\n",
       "protection_title      object\n",
       "ref                   object\n",
       "ref:WDPA              object\n",
       "sidewalk              object\n",
       "source                object\n",
       "surface               object\n",
       "tourist_bus           object\n",
       "type                  object\n",
       "usage                 object\n",
       "vehicle               object\n",
       "waterway              object\n",
       "wetland               object\n",
       "wikidata              object\n",
       "wikipedia             object\n",
       "wikipedia:bn          object\n",
       "geometry            geometry\n",
       "dtype: object"
      ]
     },
     "execution_count": 21,
     "metadata": {},
     "output_type": "execute_result"
    }
   ],
   "source": [
    "patuakhali.dtypes"
   ]
  },
  {
   "cell_type": "code",
   "execution_count": 24,
   "id": "7c00139f",
   "metadata": {},
   "outputs": [
    {
     "data": {
      "text/plain": [
       "yes    302\n",
       "Name: building, dtype: int64"
      ]
     },
     "execution_count": 24,
     "metadata": {},
     "output_type": "execute_result"
    }
   ],
   "source": [
    "building_counts"
   ]
  },
  {
   "cell_type": "code",
   "execution_count": 25,
   "id": "65b089fd",
   "metadata": {},
   "outputs": [
    {
     "data": {
      "image/png": "[encoded data removed]",
      "text/plain": [
       "<Figure size 640x480 with 1 Axes>"
      ]
     },
     "metadata": {},
     "output_type": "display_data"
    }
   ],
   "source": [
    "# Count the frequency of each category in the 'building' column\n",
    "amenity_counts = patuakhali['amenity'].value_counts()\n",
    "\n",
    "# Create a bar plot\n",
    "building_counts.plot(kind='bar')\n",
    "plt.xlabel('Amenitiy')\n",
    "plt.ylabel('Frequency')\n",
    "plt.title('Distribution of Amenity Types')\n",
    "plt.show()"
   ]
  },
  {
   "cell_type": "code",
   "execution_count": 26,
   "id": "64b4fd26",
   "metadata": {},
   "outputs": [
    {
     "data": {
      "text/plain": [
       "bus_station    1\n",
       "Name: amenity, dtype: int64"
      ]
     },
     "execution_count": 26,
     "metadata": {},
     "output_type": "execute_result"
    }
   ],
   "source": [
    "amenity_counts"
   ]
  },
  {
   "cell_type": "markdown",
   "id": "37838d15",
   "metadata": {},
   "source": [
    "As there isn't sufficient data in the amenity column, i will only include building and geometry in the new dataframe"
   ]
  },
  {
   "cell_type": "code",
   "execution_count": 27,
   "id": "5f0ee6a8",
   "metadata": {},
   "outputs": [],
   "source": [
    "filtered_pk=patuakhali.loc[patuakhali['building']=='yes',['building','geometry']].copy()"
   ]
  },
  {
   "cell_type": "code",
   "execution_count": 28,
   "id": "1d45d524",
   "metadata": {},
   "outputs": [
    {
     "data": {
      "text/html": [
       "<div>\n",
       "<style scoped>\n",
       "    .dataframe tbody tr th:only-of-type {\n",
       "        vertical-align: middle;\n",
       "    }\n",
       "\n",
       "    .dataframe tbody tr th {\n",
       "        vertical-align: top;\n",
       "    }\n",
       "\n",
       "    .dataframe thead th {\n",
       "        text-align: right;\n",
       "    }\n",
       "</style>\n",
       "<table border=\"1\" class=\"dataframe\">\n",
       "  <thead>\n",
       "    <tr style=\"text-align: right;\">\n",
       "      <th></th>\n",
       "      <th>building</th>\n",
       "      <th>geometry</th>\n",
       "    </tr>\n",
       "  </thead>\n",
       "  <tbody>\n",
       "    <tr>\n",
       "      <th>4</th>\n",
       "      <td>yes</td>\n",
       "      <td>POLYGON ((90.14074 21.81125, 90.14080 21.81123...</td>\n",
       "    </tr>\n",
       "    <tr>\n",
       "      <th>5</th>\n",
       "      <td>yes</td>\n",
       "      <td>POLYGON ((90.12740 21.81443, 90.12748 21.81442...</td>\n",
       "    </tr>\n",
       "    <tr>\n",
       "      <th>7</th>\n",
       "      <td>yes</td>\n",
       "      <td>POLYGON ((90.13603 21.81305, 90.13607 21.81305...</td>\n",
       "    </tr>\n",
       "    <tr>\n",
       "      <th>9</th>\n",
       "      <td>yes</td>\n",
       "      <td>POLYGON ((90.14291 21.81076, 90.14298 21.81076...</td>\n",
       "    </tr>\n",
       "    <tr>\n",
       "      <th>10</th>\n",
       "      <td>yes</td>\n",
       "      <td>POLYGON ((90.12096 21.81518, 90.12086 21.81520...</td>\n",
       "    </tr>\n",
       "  </tbody>\n",
       "</table>\n",
       "</div>"
      ],
      "text/plain": [
       "   building                                           geometry\n",
       "4       yes  POLYGON ((90.14074 21.81125, 90.14080 21.81123...\n",
       "5       yes  POLYGON ((90.12740 21.81443, 90.12748 21.81442...\n",
       "7       yes  POLYGON ((90.13603 21.81305, 90.13607 21.81305...\n",
       "9       yes  POLYGON ((90.14291 21.81076, 90.14298 21.81076...\n",
       "10      yes  POLYGON ((90.12096 21.81518, 90.12086 21.81520..."
      ]
     },
     "execution_count": 28,
     "metadata": {},
     "output_type": "execute_result"
    }
   ],
   "source": [
    "filtered_pk.head()"
   ]
  },
  {
   "cell_type": "code",
   "execution_count": 29,
   "id": "e757ba99",
   "metadata": {},
   "outputs": [],
   "source": [
    "import random\n",
    "import folium"
   ]
  },
  {
   "cell_type": "code",
   "execution_count": 35,
   "id": "07d73295",
   "metadata": {},
   "outputs": [],
   "source": [
    "#creating an empty dictionary for shelter data\n",
    "shelter_data = {\n",
    "    'shelter_name': [],  \n",
    "    'shelter_capacity': [], \n",
    "    'geometry': [] \n",
    "}"
   ]
  },
  {
   "cell_type": "code",
   "execution_count": 30,
   "id": "275bc5ee",
   "metadata": {},
   "outputs": [],
   "source": [
    "#randomly selecting buildings for shelter\n",
    "num_shelters=30\n",
    "selected_buildings = random.sample(range(len(filtered_pk)), num_shelters)"
   ]
  },
  {
   "cell_type": "code",
   "execution_count": 32,
   "id": "0e31893b",
   "metadata": {},
   "outputs": [],
   "source": [
    "#selected_buildings"
   ]
  },
  {
   "cell_type": "code",
   "execution_count": 36,
   "id": "d6e26b94",
   "metadata": {},
   "outputs": [],
   "source": [
    "for i in range(num_shelters):\n",
    "    shelter_name = f'Shelter {i + 1}'  # You can customize the naming convention\n",
    "    shelter_capacity = random.randint(50, 200)  # Adjust the capacity range as needed\n",
    "    shelter_geometry = filtered_pk.iloc[selected_buildings[i]]['geometry']\n",
    "    \n",
    "    # Append shelter data to the list\n",
    "    shelter_data['shelter_name'].append(shelter_name)\n",
    "    shelter_data['shelter_capacity'].append(shelter_capacity)\n",
    "    shelter_data['geometry'].append(shelter_geometry)"
   ]
  },
  {
   "cell_type": "code",
   "execution_count": 39,
   "id": "6cf76288",
   "metadata": {},
   "outputs": [],
   "source": [
    "# Creating a DataFrame from the shelter data\n",
    "shelter_df = pd.DataFrame(shelter_data)"
   ]
  },
  {
   "cell_type": "code",
   "execution_count": 40,
   "id": "b63d994d",
   "metadata": {},
   "outputs": [
    {
     "data": {
      "text/html": [
       "<div>\n",
       "<style scoped>\n",
       "    .dataframe tbody tr th:only-of-type {\n",
       "        vertical-align: middle;\n",
       "    }\n",
       "\n",
       "    .dataframe tbody tr th {\n",
       "        vertical-align: top;\n",
       "    }\n",
       "\n",
       "    .dataframe thead th {\n",
       "        text-align: right;\n",
       "    }\n",
       "</style>\n",
       "<table border=\"1\" class=\"dataframe\">\n",
       "  <thead>\n",
       "    <tr style=\"text-align: right;\">\n",
       "      <th></th>\n",
       "      <th>shelter_name</th>\n",
       "      <th>shelter_capacity</th>\n",
       "      <th>geometry</th>\n",
       "    </tr>\n",
       "  </thead>\n",
       "  <tbody>\n",
       "    <tr>\n",
       "      <th>0</th>\n",
       "      <td>Shelter 1</td>\n",
       "      <td>144</td>\n",
       "      <td>POLYGON ((90.1277636 21.8142399, 90.1277231 21...</td>\n",
       "    </tr>\n",
       "    <tr>\n",
       "      <th>1</th>\n",
       "      <td>Shelter 2</td>\n",
       "      <td>55</td>\n",
       "      <td>POLYGON ((90.1214343 21.8160558, 90.1215817 21...</td>\n",
       "    </tr>\n",
       "    <tr>\n",
       "      <th>2</th>\n",
       "      <td>Shelter 3</td>\n",
       "      <td>157</td>\n",
       "      <td>POLYGON ((90.1429892 21.8106297, 90.1429933 21...</td>\n",
       "    </tr>\n",
       "    <tr>\n",
       "      <th>3</th>\n",
       "      <td>Shelter 4</td>\n",
       "      <td>179</td>\n",
       "      <td>POLYGON ((90.1251206 21.816031, 90.1251213 21....</td>\n",
       "    </tr>\n",
       "    <tr>\n",
       "      <th>4</th>\n",
       "      <td>Shelter 5</td>\n",
       "      <td>136</td>\n",
       "      <td>POLYGON ((90.1416188 21.810835, 90.1416296 21....</td>\n",
       "    </tr>\n",
       "  </tbody>\n",
       "</table>\n",
       "</div>"
      ],
      "text/plain": [
       "  shelter_name  shelter_capacity  \\\n",
       "0    Shelter 1               144   \n",
       "1    Shelter 2                55   \n",
       "2    Shelter 3               157   \n",
       "3    Shelter 4               179   \n",
       "4    Shelter 5               136   \n",
       "\n",
       "                                            geometry  \n",
       "0  POLYGON ((90.1277636 21.8142399, 90.1277231 21...  \n",
       "1  POLYGON ((90.1214343 21.8160558, 90.1215817 21...  \n",
       "2  POLYGON ((90.1429892 21.8106297, 90.1429933 21...  \n",
       "3  POLYGON ((90.1251206 21.816031, 90.1251213 21....  \n",
       "4  POLYGON ((90.1416188 21.810835, 90.1416296 21....  "
      ]
     },
     "execution_count": 40,
     "metadata": {},
     "output_type": "execute_result"
    }
   ],
   "source": [
    "shelter_df.head()"
   ]
  },
  {
   "cell_type": "code",
   "execution_count": 42,
   "id": "eb0545e7",
   "metadata": {},
   "outputs": [],
   "source": [
    "output_shapefile = 'shelters.shp'"
   ]
  },
  {
   "cell_type": "code",
   "execution_count": 44,
   "id": "32603e45",
   "metadata": {},
   "outputs": [],
   "source": [
    "gdf_shelters = gpd.GeoDataFrame(shelter_df, geometry='geometry')"
   ]
  },
  {
   "cell_type": "code",
   "execution_count": 45,
   "id": "78fae03a",
   "metadata": {},
   "outputs": [
    {
     "name": "stderr",
     "output_type": "stream",
     "text": [
      "C:\\Users\\Hp\\AppData\\Local\\Temp\\ipykernel_28692\\321215460.py:1: UserWarning: Column names longer than 10 characters will be truncated when saved to ESRI Shapefile.\n",
      "  gdf_shelters.to_file(output_shapefile)\n"
     ]
    }
   ],
   "source": [
    "gdf_shelters.to_file(output_shapefile)"
   ]
  },
  {
   "cell_type": "code",
   "execution_count": 46,
   "id": "181342b1",
   "metadata": {},
   "outputs": [
    {
     "data": {
      "image/png": "[encoded data removed]",
      "text/plain": [
       "<Figure size 640x480 with 1 Axes>"
      ]
     },
     "metadata": {},
     "output_type": "display_data"
    }
   ],
   "source": [
    "# Plot the shelters\n",
    "gdf_shelters.plot(marker='o', color='red', markersize=5)\n",
    "\n",
    "# Customize the plot (optional)\n",
    "plt.title('Shelter Locations')\n",
    "plt.xlabel('Longitude')\n",
    "plt.ylabel('Latitude')\n",
    "\n",
    "# Show the plot\n",
    "plt.show()"
   ]
  },
  {
   "cell_type": "code",
   "execution_count": 58,
   "id": "ddf5a660",
   "metadata": {},
   "outputs": [
    {
     "data": {
      "text/plain": [
       "' #putting them on the map\\nm = folium.Map(location=[21.8, 90.2], zoom_start=10)\\ngdf_json = gdf_shelters.to_json()\\n# Create a GeoJson layer and add it to the map\\ngeojson = folium.GeoJson(gdf_json)\\ngeojson.add_to(m)'"
      ]
     },
     "execution_count": 58,
     "metadata": {},
     "output_type": "execute_result"
    }
   ],
   "source": [
    "\"\"\" #putting them on the map\n",
    "m = folium.Map(location=[21.8, 90.2], zoom_start=10)\n",
    "gdf_json = gdf_shelters.to_json()\n",
    "# Create a GeoJson layer and add it to the map\n",
    "geojson = folium.GeoJson(gdf_json)\n",
    "geojson.add_to(m)\"\"\""
   ]
  },
  {
   "cell_type": "code",
   "execution_count": 59,
   "id": "8f2dfa26",
   "metadata": {},
   "outputs": [],
   "source": [
    "for index, row in gdf_shelters.iterrows():\n",
    "    shelter_name = row['shelter_name']\n",
    "    shelter_capacity = row['shelter_capacity']\n",
    "    shelter_coords = [row['geometry'].centroid.y, row['geometry'].centroid.x]  # Get shelter coordinates\n",
    "\n",
    "    # Create a custom marker with shelter name and capacity\n",
    "    marker = folium.Marker(\n",
    "        location=shelter_coords,\n",
    "        popup=f'Shelter Name: {shelter_name}<br>Capacity: {shelter_capacity}',\n",
    "    )\n",
    "    \n",
    "    marker.add_to(m)\n"
   ]
  },
  {
   "cell_type": "code",
   "execution_count": 60,
   "id": "89dcf0db",
   "metadata": {},
   "outputs": [],
   "source": [
    "m.save('shelters_map.html')"
   ]
  },
  {
   "cell_type": "code",
   "execution_count": null,
   "id": "a6a39287",
   "metadata": {},
   "outputs": [],
   "source": []
  }
 ],
 "metadata": {
  "kernelspec": {
   "display_name": "Python 3 (ipykernel)",
   "language": "python",
   "name": "python3"
  },
  "language_info": {
   "codemirror_mode": {
    "name": "ipython",
    "version": 3
   },
   "file_extension": ".py",
   "mimetype": "text/x-python",
   "name": "python",
   "nbconvert_exporter": "python",
   "pygments_lexer": "ipython3",
   "version": "3.9.16"
  }
 },
 "nbformat": 4,
 "nbformat_minor": 5
}
